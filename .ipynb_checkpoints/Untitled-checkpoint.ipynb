{
 "cells": [
  {
   "cell_type": "code",
   "execution_count": 40,
   "id": "d9898180-a83b-45a2-b1c7-61b7d99c1739",
   "metadata": {},
   "outputs": [],
   "source": [
    "# Importing Modules\n",
    "import os\n",
    "import pandas as pd\n",
    "import numpy as np\n",
    "import matplotlib.pyplot as plt\n",
    "from docx import Document\n",
    "# Importing some required and important libararies for text processing of tweets in each data\n",
    "import nltk\n",
    "import re\n",
    "import string\n",
    "from collections import Counter\n",
    "from nltk.stem import WordNetLemmatizer, PorterStemmer\n",
    "from nltk.corpus import stopwords\n",
    "from nltk.tokenize import word_tokenize\n",
    "from nltk.stem.lancaster import LancasterStemmer\n",
    "\n",
    "import os\n",
    "import pickle\n",
    "import langchain\n",
    "from transformers import BertTokenizer, BertModel\n",
    "import torch\n",
    "from langchain.chains import RetrievalQAWithSourcesChain\n",
    "from langchain.chains.qa_with_sources.loading import load_qa_with_sources_chain\n",
    "from langchain.text_splitter import RecursiveCharacterTextSplitter\n",
    "from langchain.document_loaders import DataFrameLoader\n",
    "from langchain.vectorstores import FAISS\n",
    "from langchain.embeddings import google_palm, GooglePalmEmbeddings\n",
    "from langchain_google_genai import ChatGoogleGenerativeAI\n",
    "from langchain_community.embeddings import HuggingFaceEmbeddings\n",
    "from langchain.prompts import PromptTemplate"
   ]
  },
  {
   "cell_type": "code",
   "execution_count": 2,
   "id": "056aeb56-3c51-47a4-926e-6570f90baf9b",
   "metadata": {},
   "outputs": [
    {
     "name": "stderr",
     "output_type": "stream",
     "text": [
      "[nltk_data] Downloading package punkt to C:\\Users\\Aditya\n",
      "[nltk_data]     Shakya\\AppData\\Roaming\\nltk_data...\n",
      "[nltk_data]   Package punkt is already up-to-date!\n",
      "[nltk_data] Downloading package wordnet to C:\\Users\\Aditya\n",
      "[nltk_data]     Shakya\\AppData\\Roaming\\nltk_data...\n",
      "[nltk_data]   Package wordnet is already up-to-date!\n",
      "[nltk_data] Downloading package stopwords to C:\\Users\\Aditya\n",
      "[nltk_data]     Shakya\\AppData\\Roaming\\nltk_data...\n",
      "[nltk_data]   Package stopwords is already up-to-date!\n"
     ]
    },
    {
     "data": {
      "text/plain": [
       "True"
      ]
     },
     "execution_count": 2,
     "metadata": {},
     "output_type": "execute_result"
    }
   ],
   "source": [
    "# Ensuring required nltk resources are downloaded\n",
    "nltk.download('punkt')  # Tokenizer\n",
    "nltk.download('wordnet')  # Lemmatizer\n",
    "nltk.download('stopwords')  # Stopwords"
   ]
  },
  {
   "cell_type": "code",
   "execution_count": 3,
   "id": "46b33a4f-52be-4871-b0c9-cabe9cafd572",
   "metadata": {},
   "outputs": [],
   "source": [
    "# source path\n",
    "source = 'C:/Users/Aditya Shakya/OneDrive/Desktop/jtp articles/articles'"
   ]
  },
  {
   "cell_type": "code",
   "execution_count": 4,
   "id": "b39e5ca5-9bb4-43ed-b361-9c9277460f67",
   "metadata": {},
   "outputs": [],
   "source": [
    "# Make a dataframe to store the name of each files\n",
    "df = pd.DataFrame()"
   ]
  },
  {
   "cell_type": "code",
   "execution_count": 5,
   "id": "6396782b-5e0f-44e2-8b49-a5c2111ad670",
   "metadata": {},
   "outputs": [],
   "source": [
    "# Append the path of each files in the data\n",
    "files = os.listdir(source)\n",
    "file_path = []\n",
    "for file in files:\n",
    "    f_path = os.path.join(source, file)\n",
    "    file_path.append(f_path)"
   ]
  },
  {
   "cell_type": "code",
   "execution_count": 6,
   "id": "bca0ff1b-63f5-42ff-9e2f-58c27ac1f506",
   "metadata": {},
   "outputs": [],
   "source": [
    "# Path of the file\n",
    "df['Path'] = file_path"
   ]
  },
  {
   "cell_type": "code",
   "execution_count": 7,
   "id": "9e6f1529-4ded-4b4f-afdb-bcd56eadc99b",
   "metadata": {},
   "outputs": [],
   "source": [
    "# Title of the article\n",
    "def article_title(f):\n",
    "    document = Document(f)\n",
    "    text = [para.text for para in document.paragraphs]\n",
    "    return text[0]\n",
    "\n",
    "# Full Article\n",
    "def full_article(f):\n",
    "    document = Document(f)\n",
    "    text = [para.text for para in document.paragraphs]\n",
    "    return ' '.join(text[1:])\n",
    "\n",
    "# Word count of article\n",
    "def word_count(article):\n",
    "    return len(article.split())\n",
    "\n",
    "# Sentence count in the article\n",
    "def sentence_count(article):\n",
    "    return len(article.split('.')) + len(article.split('?'))\n",
    "\n",
    "# Caracter counts in the article\n",
    "def char_count(article):\n",
    "    return len(article)"
   ]
  },
  {
   "cell_type": "code",
   "execution_count": 8,
   "id": "fa0a3e3e-caee-40de-a1bc-ecf35765a05c",
   "metadata": {},
   "outputs": [],
   "source": [
    "df['Title'] = df['Path'].apply(article_title)"
   ]
  },
  {
   "cell_type": "code",
   "execution_count": 9,
   "id": "07787b5f-b1d3-4960-be39-6eef4d6db7bc",
   "metadata": {},
   "outputs": [],
   "source": [
    "df['Article'] = df['Path'].apply(full_article)"
   ]
  },
  {
   "cell_type": "code",
   "execution_count": 10,
   "id": "885cb121-38a0-443c-b021-6ed23cb5b4ce",
   "metadata": {},
   "outputs": [],
   "source": [
    "df['Word counts'] = df['Article'].apply(word_count)\n",
    "df['Sentence counts'] = df['Article'].apply(sentence_count)\n",
    "df['Char counts'] = df['Article'].apply(char_count)"
   ]
  },
  {
   "cell_type": "code",
   "execution_count": 11,
   "id": "a5ceb55e-ee30-4556-b063-3380401ec440",
   "metadata": {},
   "outputs": [
    {
     "data": {
      "text/html": [
       "<div>\n",
       "<style scoped>\n",
       "    .dataframe tbody tr th:only-of-type {\n",
       "        vertical-align: middle;\n",
       "    }\n",
       "\n",
       "    .dataframe tbody tr th {\n",
       "        vertical-align: top;\n",
       "    }\n",
       "\n",
       "    .dataframe thead th {\n",
       "        text-align: right;\n",
       "    }\n",
       "</style>\n",
       "<table border=\"1\" class=\"dataframe\">\n",
       "  <thead>\n",
       "    <tr style=\"text-align: right;\">\n",
       "      <th></th>\n",
       "      <th>Path</th>\n",
       "      <th>Title</th>\n",
       "      <th>Article</th>\n",
       "      <th>Word counts</th>\n",
       "      <th>Sentence counts</th>\n",
       "      <th>Char counts</th>\n",
       "    </tr>\n",
       "  </thead>\n",
       "  <tbody>\n",
       "    <tr>\n",
       "      <th>0</th>\n",
       "      <td>C:/Users/Aditya Shakya/OneDrive/Desktop/jtp ar...</td>\n",
       "      <td>20 Necessary Requirements of a Perfect Laptop ...</td>\n",
       "      <td>Data Science is field of computer science in w...</td>\n",
       "      <td>1393</td>\n",
       "      <td>74</td>\n",
       "      <td>8608</td>\n",
       "    </tr>\n",
       "    <tr>\n",
       "      <th>1</th>\n",
       "      <td>C:/Users/Aditya Shakya/OneDrive/Desktop/jtp ar...</td>\n",
       "      <td>5 Essential Tips to Improve the Readability of...</td>\n",
       "      <td>It is, however, different from Software engine...</td>\n",
       "      <td>2846</td>\n",
       "      <td>142</td>\n",
       "      <td>16834</td>\n",
       "    </tr>\n",
       "    <tr>\n",
       "      <th>2</th>\n",
       "      <td>C:/Users/Aditya Shakya/OneDrive/Desktop/jtp ar...</td>\n",
       "      <td>5 Feature Selection Method from Scikit-Learn y...</td>\n",
       "      <td>Feature selection is an important part in impr...</td>\n",
       "      <td>2663</td>\n",
       "      <td>308</td>\n",
       "      <td>20931</td>\n",
       "    </tr>\n",
       "    <tr>\n",
       "      <th>3</th>\n",
       "      <td>C:/Users/Aditya Shakya/OneDrive/Desktop/jtp ar...</td>\n",
       "      <td>5 Frameworks for Reinforcement Learning on Python</td>\n",
       "      <td>Reinforcement learning is one of the fundament...</td>\n",
       "      <td>2224</td>\n",
       "      <td>120</td>\n",
       "      <td>14174</td>\n",
       "    </tr>\n",
       "    <tr>\n",
       "      <th>4</th>\n",
       "      <td>C:/Users/Aditya Shakya/OneDrive/Desktop/jtp ar...</td>\n",
       "      <td>5 Free Books to Learn Statistics for Data Science</td>\n",
       "      <td>In addition to concepts in data science, one a...</td>\n",
       "      <td>726</td>\n",
       "      <td>30</td>\n",
       "      <td>4828</td>\n",
       "    </tr>\n",
       "  </tbody>\n",
       "</table>\n",
       "</div>"
      ],
      "text/plain": [
       "                                                Path  \\\n",
       "0  C:/Users/Aditya Shakya/OneDrive/Desktop/jtp ar...   \n",
       "1  C:/Users/Aditya Shakya/OneDrive/Desktop/jtp ar...   \n",
       "2  C:/Users/Aditya Shakya/OneDrive/Desktop/jtp ar...   \n",
       "3  C:/Users/Aditya Shakya/OneDrive/Desktop/jtp ar...   \n",
       "4  C:/Users/Aditya Shakya/OneDrive/Desktop/jtp ar...   \n",
       "\n",
       "                                               Title  \\\n",
       "0  20 Necessary Requirements of a Perfect Laptop ...   \n",
       "1  5 Essential Tips to Improve the Readability of...   \n",
       "2  5 Feature Selection Method from Scikit-Learn y...   \n",
       "3  5 Frameworks for Reinforcement Learning on Python   \n",
       "4  5 Free Books to Learn Statistics for Data Science   \n",
       "\n",
       "                                             Article  Word counts  \\\n",
       "0  Data Science is field of computer science in w...         1393   \n",
       "1  It is, however, different from Software engine...         2846   \n",
       "2  Feature selection is an important part in impr...         2663   \n",
       "3  Reinforcement learning is one of the fundament...         2224   \n",
       "4  In addition to concepts in data science, one a...          726   \n",
       "\n",
       "   Sentence counts  Char counts  \n",
       "0               74         8608  \n",
       "1              142        16834  \n",
       "2              308        20931  \n",
       "3              120        14174  \n",
       "4               30         4828  "
      ]
     },
     "execution_count": 11,
     "metadata": {},
     "output_type": "execute_result"
    }
   ],
   "source": [
    "df.head()"
   ]
  },
  {
   "cell_type": "code",
   "execution_count": 12,
   "id": "5710f1cc-86d9-46f7-9a5d-2536bda5a72b",
   "metadata": {},
   "outputs": [],
   "source": [
    "# Function for text preprocessing\n",
    "def lower_text(text):\n",
    "    # convert text to lower case\n",
    "    text = text.lower()\n",
    "    return text\n",
    "    \n",
    "# Remove stopwords\n",
    "def remove_stopwords(text):\n",
    "    stopwords_ = set(stopwords.words('english'))\n",
    "    text = ' '.join([word for word in text.split() if word not in stopwords_])\n",
    "    return text\n",
    "\n",
    "# Remove punctuation\n",
    "def remove_punctuation(text):\n",
    "    text = re.sub(r'[^\\w\\s]', '', text)  # Remove punctuation\n",
    "    return text\n",
    "\n",
    "# Remove URLs\n",
    "def remove_urls(text):\n",
    "    text = re.sub(r'http\\S+|www\\S+|https\\S+', '', text, flags=re.MULTILINE)\n",
    "    return text\n",
    "\n",
    "# Remove numbers\n",
    "def remove_numbers(text):\n",
    "    text = re.sub(r'\\d+', '', text)\n",
    "    return text\n",
    "\n",
    "# Lemmatize text (convert words to their base form)\n",
    "def lemmatize_text(text):\n",
    "    lemmatizer = WordNetLemmatizer()\n",
    "    text = ' '.join([lemmatizer.lemmatize(word) for word in word_tokenize(text)])\n",
    "    return text\n",
    "\n",
    "# Remove extra whitespaces\n",
    "def remove_extra_whitespaces(text):\n",
    "    text = re.sub(r'\\s+', ' ', text).strip()  # Remove extra spaces and leading/trailing spaces\n",
    "    return text\n",
    "\n",
    "# Combine all preprocessing steps into a single function\n",
    "def preprocess_text(text):\n",
    "    text = lower_text(text)\n",
    "    text = remove_stopwords(text)\n",
    "    text = remove_punctuation(text)\n",
    "    text = remove_urls(text)\n",
    "    text = remove_numbers(text)\n",
    "    text = lemmatize_text(text)\n",
    "    text = remove_extra_whitespaces(text)\n",
    "    return text\n",
    "\n"
   ]
  },
  {
   "cell_type": "code",
   "execution_count": 13,
   "id": "d74dd30f-6507-46c3-bc23-77a36c92524c",
   "metadata": {},
   "outputs": [],
   "source": [
    "df['Article'] = df['Article'].apply(preprocess_text)"
   ]
  },
  {
   "cell_type": "code",
   "execution_count": 14,
   "id": "1aa00a2f-fe99-438c-96c8-5966e08f896e",
   "metadata": {},
   "outputs": [],
   "source": [
    "df_copy = df.copy()"
   ]
  },
  {
   "cell_type": "code",
   "execution_count": 15,
   "id": "2c858896-bb3f-478a-b05f-f8f381619a19",
   "metadata": {},
   "outputs": [],
   "source": [
    "df_copy['Word counts'] = df_copy['Article'].apply(word_count)\n",
    "df_copy['Char counts'] = df_copy['Article'].apply(char_count)"
   ]
  },
  {
   "cell_type": "code",
   "execution_count": 16,
   "id": "60efab2b-b42f-4b3b-b965-3a72f2cdf316",
   "metadata": {},
   "outputs": [],
   "source": [
    "df_copy = df_copy.drop(['Sentence counts', 'Path'], axis = 1)"
   ]
  },
  {
   "cell_type": "code",
   "execution_count": 17,
   "id": "cff308a9-268c-41c3-b74f-a51c0ad85f7c",
   "metadata": {},
   "outputs": [
    {
     "data": {
      "text/html": [
       "<div>\n",
       "<style scoped>\n",
       "    .dataframe tbody tr th:only-of-type {\n",
       "        vertical-align: middle;\n",
       "    }\n",
       "\n",
       "    .dataframe tbody tr th {\n",
       "        vertical-align: top;\n",
       "    }\n",
       "\n",
       "    .dataframe thead th {\n",
       "        text-align: right;\n",
       "    }\n",
       "</style>\n",
       "<table border=\"1\" class=\"dataframe\">\n",
       "  <thead>\n",
       "    <tr style=\"text-align: right;\">\n",
       "      <th></th>\n",
       "      <th>Title</th>\n",
       "      <th>Article</th>\n",
       "      <th>Word counts</th>\n",
       "      <th>Char counts</th>\n",
       "    </tr>\n",
       "  </thead>\n",
       "  <tbody>\n",
       "    <tr>\n",
       "      <th>0</th>\n",
       "      <td>20 Necessary Requirements of a Perfect Laptop ...</td>\n",
       "      <td>data science field computer science math stati...</td>\n",
       "      <td>812</td>\n",
       "      <td>6025</td>\n",
       "    </tr>\n",
       "    <tr>\n",
       "      <th>1</th>\n",
       "      <td>5 Essential Tips to Improve the Readability of...</td>\n",
       "      <td>is however different software engineering most...</td>\n",
       "      <td>1504</td>\n",
       "      <td>10918</td>\n",
       "    </tr>\n",
       "    <tr>\n",
       "      <th>2</th>\n",
       "      <td>5 Feature Selection Method from Scikit-Learn y...</td>\n",
       "      <td>feature selection important part improving per...</td>\n",
       "      <td>1289</td>\n",
       "      <td>10937</td>\n",
       "    </tr>\n",
       "    <tr>\n",
       "      <th>3</th>\n",
       "      <td>5 Frameworks for Reinforcement Learning on Python</td>\n",
       "      <td>reinforcement learning one fundamental subfiel...</td>\n",
       "      <td>1266</td>\n",
       "      <td>10048</td>\n",
       "    </tr>\n",
       "    <tr>\n",
       "      <th>4</th>\n",
       "      <td>5 Free Books to Learn Statistics for Data Science</td>\n",
       "      <td>addition concept data science one also need kn...</td>\n",
       "      <td>439</td>\n",
       "      <td>3524</td>\n",
       "    </tr>\n",
       "  </tbody>\n",
       "</table>\n",
       "</div>"
      ],
      "text/plain": [
       "                                               Title  \\\n",
       "0  20 Necessary Requirements of a Perfect Laptop ...   \n",
       "1  5 Essential Tips to Improve the Readability of...   \n",
       "2  5 Feature Selection Method from Scikit-Learn y...   \n",
       "3  5 Frameworks for Reinforcement Learning on Python   \n",
       "4  5 Free Books to Learn Statistics for Data Science   \n",
       "\n",
       "                                             Article  Word counts  Char counts  \n",
       "0  data science field computer science math stati...          812         6025  \n",
       "1  is however different software engineering most...         1504        10918  \n",
       "2  feature selection important part improving per...         1289        10937  \n",
       "3  reinforcement learning one fundamental subfiel...         1266        10048  \n",
       "4  addition concept data science one also need kn...          439         3524  "
      ]
     },
     "execution_count": 17,
     "metadata": {},
     "output_type": "execute_result"
    }
   ],
   "source": [
    "df_copy.head()"
   ]
  },
  {
   "cell_type": "code",
   "execution_count": 18,
   "id": "320047fb-461f-4153-9ce6-e86135b182eb",
   "metadata": {},
   "outputs": [],
   "source": [
    "# Clean Title\n",
    "df_copy['Title'] = df_copy['Title'].apply(preprocess_text)"
   ]
  },
  {
   "cell_type": "code",
   "execution_count": 19,
   "id": "fd12a3ed-40ef-41bb-bdc1-94c1ad949001",
   "metadata": {},
   "outputs": [
    {
     "data": {
      "text/html": [
       "<div>\n",
       "<style scoped>\n",
       "    .dataframe tbody tr th:only-of-type {\n",
       "        vertical-align: middle;\n",
       "    }\n",
       "\n",
       "    .dataframe tbody tr th {\n",
       "        vertical-align: top;\n",
       "    }\n",
       "\n",
       "    .dataframe thead th {\n",
       "        text-align: right;\n",
       "    }\n",
       "</style>\n",
       "<table border=\"1\" class=\"dataframe\">\n",
       "  <thead>\n",
       "    <tr style=\"text-align: right;\">\n",
       "      <th></th>\n",
       "      <th>Title</th>\n",
       "      <th>Article</th>\n",
       "      <th>Word counts</th>\n",
       "      <th>Char counts</th>\n",
       "    </tr>\n",
       "  </thead>\n",
       "  <tbody>\n",
       "    <tr>\n",
       "      <th>0</th>\n",
       "      <td>necessary requirement perfect laptop data scie...</td>\n",
       "      <td>data science field computer science math stati...</td>\n",
       "      <td>812</td>\n",
       "      <td>6025</td>\n",
       "    </tr>\n",
       "    <tr>\n",
       "      <th>1</th>\n",
       "      <td>essential tip improve readability python code</td>\n",
       "      <td>is however different software engineering most...</td>\n",
       "      <td>1504</td>\n",
       "      <td>10918</td>\n",
       "    </tr>\n",
       "    <tr>\n",
       "      <th>2</th>\n",
       "      <td>feature selection method scikitlearn know</td>\n",
       "      <td>feature selection important part improving per...</td>\n",
       "      <td>1289</td>\n",
       "      <td>10937</td>\n",
       "    </tr>\n",
       "    <tr>\n",
       "      <th>3</th>\n",
       "      <td>framework reinforcement learning python</td>\n",
       "      <td>reinforcement learning one fundamental subfiel...</td>\n",
       "      <td>1266</td>\n",
       "      <td>10048</td>\n",
       "    </tr>\n",
       "    <tr>\n",
       "      <th>4</th>\n",
       "      <td>free book learn statistic data science</td>\n",
       "      <td>addition concept data science one also need kn...</td>\n",
       "      <td>439</td>\n",
       "      <td>3524</td>\n",
       "    </tr>\n",
       "  </tbody>\n",
       "</table>\n",
       "</div>"
      ],
      "text/plain": [
       "                                               Title  \\\n",
       "0  necessary requirement perfect laptop data scie...   \n",
       "1      essential tip improve readability python code   \n",
       "2          feature selection method scikitlearn know   \n",
       "3            framework reinforcement learning python   \n",
       "4             free book learn statistic data science   \n",
       "\n",
       "                                             Article  Word counts  Char counts  \n",
       "0  data science field computer science math stati...          812         6025  \n",
       "1  is however different software engineering most...         1504        10918  \n",
       "2  feature selection important part improving per...         1289        10937  \n",
       "3  reinforcement learning one fundamental subfiel...         1266        10048  \n",
       "4  addition concept data science one also need kn...          439         3524  "
      ]
     },
     "execution_count": 19,
     "metadata": {},
     "output_type": "execute_result"
    }
   ],
   "source": [
    "df_copy.head()"
   ]
  },
  {
   "cell_type": "code",
   "execution_count": null,
   "id": "06b0c66e-3546-4acc-801e-62698e1e5e1f",
   "metadata": {},
   "outputs": [],
   "source": []
  }
 ],
 "metadata": {
  "kernelspec": {
   "display_name": "Python 3 (ipykernel)",
   "language": "python",
   "name": "python3"
  },
  "language_info": {
   "codemirror_mode": {
    "name": "ipython",
    "version": 3
   },
   "file_extension": ".py",
   "mimetype": "text/x-python",
   "name": "python",
   "nbconvert_exporter": "python",
   "pygments_lexer": "ipython3",
   "version": "3.10.0"
  },
  "widgets": {
   "application/vnd.jupyter.widget-state+json": {
    "state": {},
    "version_major": 2,
    "version_minor": 0
   }
  }
 },
 "nbformat": 4,
 "nbformat_minor": 5
}
